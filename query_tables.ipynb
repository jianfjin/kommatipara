{
 "cells": [
  {
   "cell_type": "code",
   "execution_count": 1,
   "id": "c3d29fe0-794a-49b8-9800-554565f16b29",
   "metadata": {},
   "outputs": [],
   "source": [
    "from pyspark.sql import functions as F, SparkSession, DataFrame\n",
    "from pyspark.sql.types import StructField, StructType, StringType, IntegerType, LongType\n",
    "from pyspark.sql.utils import AnalysisException\n",
    "import json\n",
    "from pathlib import Path\n",
    "from delta import *"
   ]
  },
  {
   "cell_type": "code",
   "execution_count": 2,
   "id": "58245cb6-0ba1-4538-85cd-f4258c43e4cf",
   "metadata": {},
   "outputs": [],
   "source": [
    "root_path = str(Path().resolve())\n",
    "source_path = str(Path().resolve())\n",
    "source_location = f'file:///{source_path}/scripts/resources'\n",
    "datalake_dir = f'file:///{root_path}/datalake'\n",
    "db_name = 'client_data'\n",
    "storage_location = f'file:///{root_path}/{db_name}'\n",
    "config_path = f'{source_path}/scripts/resources/config.json'"
   ]
  },
  {
   "cell_type": "markdown",
   "id": "2cdc51d4-f5f0-4c58-89de-5c54b53d974d",
   "metadata": {},
   "source": [
    "## Create Spark session"
   ]
  },
  {
   "cell_type": "code",
   "execution_count": 3,
   "id": "1fa7f1c0-1960-4e6e-bce8-efab76dd364d",
   "metadata": {},
   "outputs": [],
   "source": [
    "builder = SparkSession.builder.appName(\"ETLDemo\") \\\n",
    "    .config(\"spark.sql.extensions\", \"io.delta.sql.DeltaSparkSessionExtension\") \\\n",
    "    .config(\"spark.sql.catalog.spark_catalog\", \"org.apache.spark.sql.delta.catalog.DeltaCatalog\") \\\n",
    "    .config(\"spark.sql.warehouse.dir\", datalake_dir)"
   ]
  },
  {
   "cell_type": "code",
   "execution_count": 4,
   "id": "c05c12e0-3e76-491a-8088-aaecd02866d6",
   "metadata": {},
   "outputs": [
    {
     "name": "stderr",
     "output_type": "stream",
     "text": [
      "SLF4J: Class path contains multiple SLF4J bindings.\n",
      "SLF4J: Found binding in [jar:file:/home/jinj01/hadoop/spark-3.3.3/jars/log4j-slf4j-impl-2.17.2.jar!/org/slf4j/impl/StaticLoggerBinder.class]\n",
      "SLF4J: Found binding in [jar:file:/home/jinj01/hadoop/hadoop-3.3.6/share/hadoop/common/lib/slf4j-reload4j-1.7.36.jar!/org/slf4j/impl/StaticLoggerBinder.class]\n",
      "SLF4J: Found binding in [jar:file:/home/jinj01/hadoop/apache-hive-3.1.2-bin/lib/log4j-slf4j-impl-2.10.0.jar!/org/slf4j/impl/StaticLoggerBinder.class]\n",
      "SLF4J: See http://www.slf4j.org/codes.html#multiple_bindings for an explanation.\n",
      "SLF4J: Actual binding is of type [org.apache.logging.slf4j.Log4jLoggerFactory]\n"
     ]
    },
    {
     "name": "stdout",
     "output_type": "stream",
     "text": [
      "2024-03-15T09:50:17,536 WARN [main] org.apache.spark.util.Utils - Your hostname, L-PF3MV5RS resolves to a loopback address: 127.0.1.1; using 172.26.122.132 instead (on interface eth0)\n",
      "2024-03-15T09:50:17,544 WARN [main] org.apache.spark.util.Utils - Set SPARK_LOCAL_IP if you need to bind to another address\n",
      ":: loading settings :: url = jar:file:/home/jinj01/hadoop/spark-3.3.3/jars/ivy-2.5.1.jar!/org/apache/ivy/core/settings/ivysettings.xml\n"
     ]
    },
    {
     "name": "stderr",
     "output_type": "stream",
     "text": [
      "Ivy Default Cache set to: /home/jinj01/.ivy2/cache\n",
      "The jars for the packages stored in: /home/jinj01/.ivy2/jars\n",
      "io.delta#delta-core_2.12 added as a dependency\n",
      ":: resolving dependencies :: org.apache.spark#spark-submit-parent-4c9d5a37-1635-476a-981b-fa33bb2e5513;1.0\n",
      "\tconfs: [default]\n",
      "\tfound io.delta#delta-core_2.12;2.0.0 in central\n",
      "\tfound io.delta#delta-storage;2.0.0 in central\n",
      "\tfound org.antlr#antlr4-runtime;4.8 in central\n",
      "\tfound org.codehaus.jackson#jackson-core-asl;1.9.13 in central\n",
      ":: resolution report :: resolve 258ms :: artifacts dl 12ms\n",
      "\t:: modules in use:\n",
      "\tio.delta#delta-core_2.12;2.0.0 from central in [default]\n",
      "\tio.delta#delta-storage;2.0.0 from central in [default]\n",
      "\torg.antlr#antlr4-runtime;4.8 from central in [default]\n",
      "\torg.codehaus.jackson#jackson-core-asl;1.9.13 from central in [default]\n",
      "\t---------------------------------------------------------------------\n",
      "\t|                  |            modules            ||   artifacts   |\n",
      "\t|       conf       | number| search|dwnlded|evicted|| number|dwnlded|\n",
      "\t---------------------------------------------------------------------\n",
      "\t|      default     |   4   |   0   |   0   |   0   ||   4   |   0   |\n",
      "\t---------------------------------------------------------------------\n",
      ":: retrieving :: org.apache.spark#spark-submit-parent-4c9d5a37-1635-476a-981b-fa33bb2e5513\n",
      "\tconfs: [default]\n",
      "\t0 artifacts copied, 4 already retrieved (0kB/7ms)\n"
     ]
    },
    {
     "name": "stdout",
     "output_type": "stream",
     "text": [
      "2024-03-15T09:50:19,565 WARN [main] org.apache.hadoop.util.NativeCodeLoader - Unable to load native-hadoop library for your platform... using builtin-java classes where applicable\n"
     ]
    },
    {
     "name": "stderr",
     "output_type": "stream",
     "text": [
      "Setting default log level to \"WARN\".\n",
      "To adjust logging level use sc.setLogLevel(newLevel). For SparkR, use setLogLevel(newLevel).\n"
     ]
    },
    {
     "name": "stdout",
     "output_type": "stream",
     "text": [
      "2024-03-15T09:50:21,529 WARN [Thread-5] org.apache.spark.util.Utils - Service 'SparkUI' could not bind on port 4040. Attempting port 4041.\n"
     ]
    }
   ],
   "source": [
    "spark = configure_spark_with_delta_pip(builder).getOrCreate()"
   ]
  },
  {
   "cell_type": "markdown",
   "id": "2b60bca9-66c2-4706-b6cf-19504db7dffb",
   "metadata": {},
   "source": [
    "### Query the raw data"
   ]
  },
  {
   "cell_type": "code",
   "execution_count": 5,
   "id": "be87a30e-bea0-46a9-b2ec-c4e31362a26b",
   "metadata": {},
   "outputs": [
    {
     "name": "stderr",
     "output_type": "stream",
     "text": [
      "                                                                                \r"
     ]
    }
   ],
   "source": [
    "client_account_df = spark.read.format(\"delta\").load(f\"{datalake_dir}/{db_name}.db/client_account\")"
   ]
  },
  {
   "cell_type": "code",
   "execution_count": 6,
   "id": "b7315922-ac79-4ca3-9ba0-f419c05ade5d",
   "metadata": {},
   "outputs": [
    {
     "name": "stderr",
     "output_type": "stream",
     "text": [
      "[Stage 8:>                                                          (0 + 1) / 1]\r"
     ]
    },
    {
     "name": "stdout",
     "output_type": "stream",
     "text": [
      "+---+--------------------+--------------------+------------------+\n",
      "| id|               btc_a|                cc_t|              cc_n|\n",
      "+---+--------------------+--------------------+------------------+\n",
      "|  1|1wjtPamAZeGhRnZfh...|       visa-electron|  4175006996999270|\n",
      "|  2|1Js9BA1rV31hJFmN2...|                 jcb|  3587679584356527|\n",
      "|  3|1CoG9ciLQVQCnia5o...| diners-club-enroute|   201876885481838|\n",
      "|  4|1GNvinVKGzPBVNZSc...|              switch|564182038040530730|\n",
      "|  5|1DHTzZ7ypu3EzWtLB...|                 jcb|  3555559025151828|\n",
      "|  6|1LWktvit3XBCJNrsj...|                 jcb|  3580083825272493|\n",
      "|  7|1J71SRGqUjhqPuHaZ...|              switch|491193585665108260|\n",
      "|  8|1Q5FAwgXbhRxP1uYp...|          mastercard|  5100174550682620|\n",
      "|  9|1QKy8RoeWR48nrwkn...|diners-club-carte...|    30343863921001|\n",
      "| 10|1NRDQBCtuDqm8Qomr...|diners-club-carte...|    30559612937267|\n",
      "| 11|1HcqQ5Ys77sJm3ZJv...|                visa|     4937793997478|\n",
      "| 12|1EncEr6Vd5ywk96un...|                 jcb|  3569513122126013|\n",
      "| 13|14bMXV3h1S6KxGHde...|                 jcb|  3537645802098952|\n",
      "| 14|1Gi1ZJsBDqCztVjtc...|            bankcard|  5602232103395992|\n",
      "| 15|1GnNjsnbBTw6w9WHn...|                 jcb|  3558941392668773|\n",
      "| 16|17y4HG6vY9wDZmeu5...|                 jcb|  3579496825654275|\n",
      "| 17|14reD6Z1kUjg8QC5Y...|                 jcb|  3563252716889142|\n",
      "| 18|1ErM8yuF3ytzzxLy1...|      china-unionpay| 56022230876188334|\n",
      "| 19|1FeH4KecDLZYXEcAu...|          mastercard|  5100176279014886|\n",
      "| 20|14iPptCE59bQXGocz...|                 jcb|  3531510529019283|\n",
      "+---+--------------------+--------------------+------------------+\n",
      "only showing top 20 rows\n",
      "\n"
     ]
    },
    {
     "name": "stderr",
     "output_type": "stream",
     "text": [
      "                                                                                \r"
     ]
    }
   ],
   "source": [
    "client_account_df.show()"
   ]
  },
  {
   "cell_type": "code",
   "execution_count": 7,
   "id": "caab8f81-d245-440d-9a48-c9cc62e65c17",
   "metadata": {},
   "outputs": [],
   "source": [
    "client_info_df = spark.read.format(\"delta\").load(f\"{datalake_dir}/{db_name}.db/client_information\")"
   ]
  },
  {
   "cell_type": "code",
   "execution_count": 8,
   "id": "a4b03479-3a35-46e1-a3fb-4bdcf4da2b08",
   "metadata": {},
   "outputs": [
    {
     "name": "stdout",
     "output_type": "stream",
     "text": [
      "+---+----------+----------+--------------------+--------------+\n",
      "| id|first_name| last_name|               email|       country|\n",
      "+---+----------+----------+--------------------+--------------+\n",
      "|  1|    Feliza|    Eusden|  feusden0@ameblo.jp|        France|\n",
      "|  2| Priscilla|   Le Pine|plepine1@biglobe....|        France|\n",
      "|  3|    Jaimie|    Sandes|jsandes2@reuters.com|        France|\n",
      "|  4|      Nari|   Dolphin|ndolphin3@cbsloca...|        France|\n",
      "|  5|     Garik|     Farre|gfarre4@economist...|        France|\n",
      "|  6|   Kordula|   Broodes| kbroodes5@amazon.de|        France|\n",
      "|  7|     Rakel|   Ingliby|    ringliby6@ft.com| United States|\n",
      "|  8|      Derk| Mattielli|dmattielli7@slide...| United States|\n",
      "|  9|    Karrah|   Boshard|   kboshard8@ihg.com|        France|\n",
      "| 10| Friedrich|  Kreutzer|fkreutzer9@busine...|        France|\n",
      "| 11|      Conn|   Claiden| cclaidena@vimeo.com|        France|\n",
      "| 12|     Karel|   Crippin| kcrippinb@google.pl|        France|\n",
      "| 13| Millisent|     Joint| mjointc@state.tx.us|        France|\n",
      "| 14|   Valeria|McCloughen| vmccloughend@gov.uk|        France|\n",
      "| 15|   Monique|  Bernardo|mbernardoe@scient...| United States|\n",
      "| 16|    Callie|    d'Arcy|cdarcyf@people.co...| United States|\n",
      "| 17|   Demetri|Bridgwater|dbridgwaterg@youk...| United States|\n",
      "| 18|   Richard|    Drinan|rdrinanh@odnoklas...|United Kingdom|\n",
      "| 19|    Benjie|  Stuttman|bstuttmani@cpanel...| United States|\n",
      "| 20|  Claresta|Martinetto|cmartinettoj@mapy.cz|        France|\n",
      "+---+----------+----------+--------------------+--------------+\n",
      "only showing top 20 rows\n",
      "\n"
     ]
    }
   ],
   "source": [
    "client_info_df.show()"
   ]
  },
  {
   "cell_type": "code",
   "execution_count": 14,
   "id": "ec80ac37-5cab-4c33-b780-41a9a6c33dde",
   "metadata": {},
   "outputs": [],
   "source": [
    "id_count = client_info_df.groupBy('country').agg(F.count('id').alias('id_count')).filter(F.lower(F.col('country')).isin('united kingdom', 'netherlands'))"
   ]
  },
  {
   "cell_type": "code",
   "execution_count": 21,
   "id": "35e7f64f-4142-4bee-addb-6b8b30447937",
   "metadata": {},
   "outputs": [
    {
     "name": "stdout",
     "output_type": "stream",
     "text": [
      "+--------------+--------+\n",
      "|       country|id_count|\n",
      "+--------------+--------+\n",
      "|United Kingdom|      38|\n",
      "|   Netherlands|      62|\n",
      "+--------------+--------+\n",
      "\n"
     ]
    }
   ],
   "source": [
    "id_count.show()"
   ]
  },
  {
   "cell_type": "code",
   "execution_count": 29,
   "id": "c1cacc7d-cad2-432d-ba3f-a22992d8fc04",
   "metadata": {},
   "outputs": [],
   "source": [
    "filtered_count = id_count.select(F.sum('id_count')).collect()[0][0]"
   ]
  },
  {
   "cell_type": "code",
   "execution_count": 31,
   "id": "2b35f4f1-d2bd-4993-a6f5-b76e72a9d054",
   "metadata": {},
   "outputs": [
    {
     "data": {
      "text/plain": [
       "100"
      ]
     },
     "execution_count": 31,
     "metadata": {},
     "output_type": "execute_result"
    }
   ],
   "source": [
    "filtered_count"
   ]
  },
  {
   "cell_type": "markdown",
   "id": "292da628-dbac-494e-a7fb-8b8316fb8cd9",
   "metadata": {},
   "source": [
    "### Query the client data"
   ]
  },
  {
   "cell_type": "code",
   "execution_count": 9,
   "id": "0ec3ff56-a446-4008-a1e3-4688f128d224",
   "metadata": {},
   "outputs": [
    {
     "name": "stderr",
     "output_type": "stream",
     "text": [
      "                                                                                \r"
     ]
    }
   ],
   "source": [
    "client_data = spark.read.format(\"delta\").load(storage_location)"
   ]
  },
  {
   "cell_type": "code",
   "execution_count": 10,
   "id": "4c031334-2c78-4ab0-b704-6b3dbd5a24f4",
   "metadata": {},
   "outputs": [
    {
     "name": "stdout",
     "output_type": "stream",
     "text": [
      "+-----------------+----------+---------+--------------+--------------------+--------------------+\n",
      "|client_identifier|first_name|last_name|       country|     bitcoin_address|    credit_card_type|\n",
      "+-----------------+----------+---------+--------------+--------------------+--------------------+\n",
      "|               18|   Richard|   Drinan|United Kingdom|1ErM8yuF3ytzzxLy1...|      china-unionpay|\n",
      "|               32|    Wallis|  Bamford|United Kingdom|12sxmYnPcADAXw1Yk...|             maestro|\n",
      "|               33|   Saundra|  Westall|United Kingdom|1GZ7QB7GUFSWnkBHm...|          mastercard|\n",
      "|               34|     Ewart|Rosengren|United Kingdom|12o8zrHx6snCPbtko...|       visa-electron|\n",
      "|               36|    Daniel|Buckthorp|   Netherlands|15X53Z9B9jUNrvFpb...|diners-club-inter...|\n",
      "|               62|      Boyd|   Barham|   Netherlands|16qpYVt6YAAx4JYjz...|                 jcb|\n",
      "|               67|     Lorry|  Beavors|United Kingdom|12ya1ED93ApPBQRSC...|            bankcard|\n",
      "|               70|  Freedman|   Dresse|United Kingdom|1F8zXTEaf4AFpztMN...|          mastercard|\n",
      "|               91|      Audy|   Eplate|United Kingdom|19MZSy1H8S4SaXsmS...|diners-club-carte...|\n",
      "|              105|     Lacie|  Infante|   Netherlands|13j6FKzrLgumLUqeY...|                 jcb|\n",
      "|              108|   Rhianna|  Partkya|   Netherlands|1RcsodKknm8thkCL6...|             maestro|\n",
      "|              109|    Marnia|     Dory|   Netherlands|1HxV2jkyM3PXbsH4q...|                 jcb|\n",
      "|              110|     Rhody|  Swindle|   Netherlands|15cRJ4mzZd4Vgd33x...|      china-unionpay|\n",
      "|              124|       Wyn|    Darco|   Netherlands|1CB7AdhTFBXmxuABm...|             maestro|\n",
      "|              128|      Vito| Napthine|   Netherlands|16DbYq1KR8DVSQu5E...| diners-club-enroute|\n",
      "|              165|     Hilda| Heinecke|   Netherlands|1KgbP1KXt5xs2sBLu...|                 jcb|\n",
      "|              177|   Alfredo|  Wissbey|United Kingdom|1AJzqEgbbFh2TNLFZ...|     americanexpress|\n",
      "|              189|    Eduard|     Tsar|   Netherlands|1PktCHyic9G4aZu15...|                 jcb|\n",
      "|              194|     Irena|  Greated|   Netherlands|12KTfvJwTfnJn3dFt...|                 jcb|\n",
      "|              197|    Penrod|  Volette|United Kingdom|1Q6UV84patYXfzEdA...| diners-club-enroute|\n",
      "+-----------------+----------+---------+--------------+--------------------+--------------------+\n",
      "only showing top 20 rows\n",
      "\n"
     ]
    }
   ],
   "source": [
    "client_data.show()"
   ]
  },
  {
   "cell_type": "code",
   "execution_count": 18,
   "id": "79703866-acbd-4ea7-bc68-37d26fb66196",
   "metadata": {},
   "outputs": [],
   "source": [
    "client_count = client_data.count()"
   ]
  },
  {
   "cell_type": "code",
   "execution_count": 19,
   "id": "e8ecc38e-54da-45f5-b08c-bdd4581aa684",
   "metadata": {},
   "outputs": [
    {
     "data": {
      "text/plain": [
       "100"
      ]
     },
     "execution_count": 19,
     "metadata": {},
     "output_type": "execute_result"
    }
   ],
   "source": [
    "client_count"
   ]
  },
  {
   "cell_type": "code",
   "execution_count": 34,
   "id": "a45cf01c-c37b-4299-bef2-ad23bcf8a4b0",
   "metadata": {},
   "outputs": [],
   "source": [
    "assert filtered_count == client_count"
   ]
  },
  {
   "cell_type": "code",
   "execution_count": null,
   "id": "7f273431-4904-4752-a74b-d68392dd3a70",
   "metadata": {},
   "outputs": [],
   "source": []
  }
 ],
 "metadata": {
  "kernelspec": {
   "display_name": "Python 3 (ipykernel)",
   "language": "python",
   "name": "python3"
  },
  "language_info": {
   "codemirror_mode": {
    "name": "ipython",
    "version": 3
   },
   "file_extension": ".py",
   "mimetype": "text/x-python",
   "name": "python",
   "nbconvert_exporter": "python",
   "pygments_lexer": "ipython3",
   "version": "3.10.12"
  }
 },
 "nbformat": 4,
 "nbformat_minor": 5
}
